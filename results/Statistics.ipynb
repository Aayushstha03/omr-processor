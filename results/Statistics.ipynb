{
 "cells": [
  {
   "cell_type": "code",
   "execution_count": 17,
   "id": "989e36cd",
   "metadata": {},
   "outputs": [],
   "source": [
    "import numpy as np\n",
    "import scipy.stats as stats\n",
    "import matplotlib.pyplot as plt"
   ]
  },
  {
   "cell_type": "code",
   "execution_count": 16,
   "id": "2fd01d81",
   "metadata": {},
   "outputs": [],
   "source": [
    "# ----- Descriptive Statistics -----\n",
    "def descriptive_stats(data, label):\n",
    "    print(f\"\\n--- Descriptive Statistics: {label} ---\")\n",
    "    print(f\"Count: {len(data)}\")\n",
    "    print(f\"Mean: {np.mean(data):.2f}\")\n",
    "    print(f\"Median: {np.median(data):.2f}\")\n",
    "    print(f\"Standard Deviation: {np.std(data, ddof=1):.2f}\")\n",
    "    print(f\"Minimum: {np.min(data)}\")\n",
    "    print(f\"Maximum: {np.max(data)}\")"
   ]
  },
  {
   "cell_type": "code",
   "execution_count": 18,
   "id": "fb8d43d3",
   "metadata": {},
   "outputs": [],
   "source": [
    "# test functions\n",
    "def shapiro_wilk_test(data, label):\n",
    "    stat, p = stats.shapiro(data)\n",
    "    print(f\"\\nShapiro-Wilk Test ({label}): W = {stat:.4f}, p = {p:.4f}\")\n",
    "    return p\n",
    "\n",
    "def levene_test(g1, g2):\n",
    "    stat, p = stats.levene(g1, g2)\n",
    "    print(f\"\\nLevene’s Test: W = {stat:.4f}, p = {p:.4f}\")\n",
    "    return p\n",
    "\n",
    "def t_test(g1, g2, equal_var=True):\n",
    "    stat, p = stats.ttest_ind(g1, g2, equal_var=equal_var)\n",
    "    print(f\"\\nT-Test (equal_var={equal_var}): t = {stat:.4f}, p = {p:.4f}\")\n",
    "    return p\n",
    "\n",
    "def mann_whitney_u(g1, g2):\n",
    "    stat, p = stats.mannwhitneyu(g1, g2, alternative='two-sided')\n",
    "    print(f\"\\nMann–Whitney U Test: U = {stat}, p = {p:.4f}\")\n",
    "    return p\n",
    "\n",
    "def cohens_d(g1, g2):\n",
    "    mean_diff = np.mean(g1) - np.mean(g2)\n",
    "    pooled_sd = np.sqrt(((len(g1)-1)*np.var(g1, ddof=1) + (len(g2)-1)*np.var(g2, ddof=1)) / (len(g1) + len(g2) - 2))\n",
    "    d = mean_diff / pooled_sd\n",
    "    print(f\"\\nCohen's d: {d:.4f}\")\n",
    "    return d\n"
   ]
  },
  {
   "cell_type": "code",
   "execution_count": 19,
   "id": "0265c1a7",
   "metadata": {},
   "outputs": [],
   "source": [
    "# ----- Visualization -----\n",
    "def plot_distributions(g1, g2):\n",
    "    plt.figure(figsize=(10, 4))\n",
    "\n",
    "    plt.subplot(1, 2, 1)\n",
    "    plt.hist(g1, bins=range(0, 7), alpha=0.6, label='Group 1', color='skyblue', edgecolor='black', density=True)\n",
    "    plt.hist(g2, bins=range(0, 7), alpha=0.6, label='Group 2', color='salmon', edgecolor='black', density=True)\n",
    "    plt.title(\"Histogram of Scores\")\n",
    "    plt.xlabel(\"Scores\")\n",
    "    plt.ylabel(\"Density\")\n",
    "    plt.legend()\n",
    "\n",
    "    plt.subplot(1, 2, 2)\n",
    "    plt.boxplot([g1, g2], labels=[\"Group 1\", \"Group 2\"])\n",
    "    plt.title(\"Boxplot of Scores\")\n",
    "    plt.ylabel(\"Score\")\n",
    "\n",
    "    plt.tight_layout()\n",
    "    plt.show()"
   ]
  },
  {
   "cell_type": "code",
   "execution_count": 22,
   "id": "ccfca46a",
   "metadata": {},
   "outputs": [
    {
     "name": "stdout",
     "output_type": "stream",
     "text": [
      "=== Statistical Analysis Between Two Learning Methods ===\n",
      "\n",
      "--- Descriptive Statistics: Group 1 ---\n",
      "Count: 100\n",
      "Mean: 2.37\n",
      "Median: 2.00\n",
      "Standard Deviation: 1.70\n",
      "Minimum: 0\n",
      "Maximum: 5\n",
      "\n",
      "--- Descriptive Statistics: Group 2 ---\n",
      "Count: 100\n",
      "Mean: 2.54\n",
      "Median: 3.00\n",
      "Standard Deviation: 1.73\n",
      "Minimum: 0\n",
      "Maximum: 5\n",
      "\n",
      "Shapiro-Wilk Test (Group 1): W = 0.9003, p = 0.0000\n",
      "\n",
      "Shapiro-Wilk Test (Group 2): W = 0.9027, p = 0.0000\n",
      "\n",
      "Mann–Whitney U Test: U = 4709.5, p = 0.4717\n",
      "\n",
      "Cohen's d: -0.0991\n"
     ]
    },
    {
     "name": "stderr",
     "output_type": "stream",
     "text": [
      "C:\\Users\\aayus\\AppData\\Local\\Temp\\ipykernel_8700\\87196274.py:14: MatplotlibDeprecationWarning: The 'labels' parameter of boxplot() has been renamed 'tick_labels' since Matplotlib 3.9; support for the old name will be dropped in 3.11.\n",
      "  plt.boxplot([g1, g2], labels=[\"Group 1\", \"Group 2\"])\n"
     ]
    },
    {
     "data": {
      "image/png": "[encoded data removed]",
      "text/plain": [
       "<Figure size 1000x400 with 2 Axes>"
      ]
     },
     "metadata": {},
     "output_type": "display_data"
    }
   ],
   "source": [
    "print(\"=== Statistical Analysis Between Two Learning Methods ===\")\n",
    "\n",
    "group1_scores = np.random.choice(range(0, 6), 100)\n",
    "group2_scores = np.random.choice(range(0, 6), 100)\n",
    "\n",
    "# Descriptive statistics\n",
    "descriptive_stats(group1_scores, \"Group 1\")\n",
    "descriptive_stats(group2_scores, \"Group 2\")\n",
    "\n",
    "# Step 1: Normality Check\n",
    "p1 = shapiro_wilk_test(group1_scores, \"Group 1\")\n",
    "p2 = shapiro_wilk_test(group2_scores, \"Group 2\")\n",
    "\n",
    "# Step 2: Test Selection\n",
    "if p1 > 0.05 and p2 > 0.05:\n",
    "    p_var = levene_test(group1_scores, group2_scores)\n",
    "    equal_var = p_var > 0.05\n",
    "    t_test(group1_scores, group2_scores, equal_var=equal_var)\n",
    "else:\n",
    "    mann_whitney_u(group1_scores, group2_scores)\n",
    "\n",
    "# Step 3: Effect Size\n",
    "cohens_d(group1_scores, group2_scores)\n",
    "\n",
    "# Step 4: Plotting\n",
    "plot_distributions(group1_scores, group2_scores)\n",
    "\n"
   ]
  }
 ],
 "metadata": {
  "kernelspec": {
   "display_name": "environment",
   "language": "python",
   "name": "python3"
  },
  "language_info": {
   "codemirror_mode": {
    "name": "ipython",
    "version": 3
   },
   "file_extension": ".py",
   "mimetype": "text/x-python",
   "name": "python",
   "nbconvert_exporter": "python",
   "pygments_lexer": "ipython3",
   "version": "3.12.5"
  }
 },
 "nbformat": 4,
 "nbformat_minor": 5
}
